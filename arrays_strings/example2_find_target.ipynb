{
 "cells": [
  {
   "cell_type": "code",
   "execution_count": 38,
   "id": "0f6ec266",
   "metadata": {},
   "outputs": [],
   "source": [
    "a = [1, 2, 4, 6, 8, 9, 14, 15]"
   ]
  },
  {
   "cell_type": "code",
   "execution_count": 39,
   "id": "0f74c05e",
   "metadata": {},
   "outputs": [],
   "source": [
    "target = 13"
   ]
  },
  {
   "cell_type": "code",
   "execution_count": 43,
   "id": "88f3ad83",
   "metadata": {},
   "outputs": [],
   "source": [
    "# Brutal force\n",
    "pair = False\n",
    "stop = False\n",
    "for i in range(len(a)):\n",
    "    for j in range(i,len(a)):\n",
    "        temp = a[i] + a[j]\n",
    "        \n",
    "        if temp == target:\n",
    "            pair = True\n",
    "            stop = True\n",
    "        \n",
    "        if stop:\n",
    "            break\n",
    "    if stop:\n",
    "        break"
   ]
  },
  {
   "cell_type": "code",
   "execution_count": 44,
   "id": "f2154d78",
   "metadata": {},
   "outputs": [
    {
     "data": {
      "text/plain": [
       "True"
      ]
     },
     "execution_count": 44,
     "metadata": {},
     "output_type": "execute_result"
    }
   ],
   "source": [
    "pair"
   ]
  },
  {
   "cell_type": "code",
   "execution_count": 47,
   "id": "64c61552",
   "metadata": {},
   "outputs": [
    {
     "data": {
      "text/plain": [
       "4"
      ]
     },
     "execution_count": 47,
     "metadata": {},
     "output_type": "execute_result"
    }
   ],
   "source": [
    "a[i]"
   ]
  },
  {
   "cell_type": "code",
   "execution_count": 48,
   "id": "df6f5f95",
   "metadata": {},
   "outputs": [
    {
     "data": {
      "text/plain": [
       "9"
      ]
     },
     "execution_count": 48,
     "metadata": {},
     "output_type": "execute_result"
    }
   ],
   "source": [
    "a[j]"
   ]
  },
  {
   "cell_type": "code",
   "execution_count": 17,
   "id": "8b97ea49",
   "metadata": {},
   "outputs": [],
   "source": [
    "# Two pointers\n",
    "i_l = 0\n",
    "i_r = len(a) - 1\n",
    "pair = False\n",
    "for i in range(len(a)):\n",
    "    pair = a[i_l] + a[i_r]\n",
    "    \n",
    "    if pair > target:\n",
    "        i_r -= 1\n",
    "    elif pair < target:\n",
    "        i_l += 1\n",
    "    else:\n",
    "        pair = True\n",
    "        break"
   ]
  },
  {
   "cell_type": "code",
   "execution_count": 18,
   "id": "1e66bce9",
   "metadata": {},
   "outputs": [
    {
     "data": {
      "text/plain": [
       "True"
      ]
     },
     "execution_count": 18,
     "metadata": {},
     "output_type": "execute_result"
    }
   ],
   "source": [
    "pair"
   ]
  },
  {
   "cell_type": "code",
   "execution_count": 21,
   "id": "40b39755",
   "metadata": {},
   "outputs": [
    {
     "data": {
      "text/plain": [
       "4"
      ]
     },
     "execution_count": 21,
     "metadata": {},
     "output_type": "execute_result"
    }
   ],
   "source": [
    "a[i_l]"
   ]
  },
  {
   "cell_type": "code",
   "execution_count": 22,
   "id": "cbd12077",
   "metadata": {},
   "outputs": [
    {
     "data": {
      "text/plain": [
       "9"
      ]
     },
     "execution_count": 22,
     "metadata": {},
     "output_type": "execute_result"
    }
   ],
   "source": [
    "a[i_r]"
   ]
  },
  {
   "cell_type": "code",
   "execution_count": 25,
   "id": "d73a823c",
   "metadata": {},
   "outputs": [
    {
     "name": "stdout",
     "output_type": "stream",
     "text": [
      "3\n",
      "4\n",
      "5\n"
     ]
    }
   ],
   "source": [
    "for i in range(3,6):\n",
    "    print(i)"
   ]
  }
 ],
 "metadata": {
  "kernelspec": {
   "display_name": "Python 3 (ipykernel)",
   "language": "python",
   "name": "python3"
  },
  "language_info": {
   "codemirror_mode": {
    "name": "ipython",
    "version": 3
   },
   "file_extension": ".py",
   "mimetype": "text/x-python",
   "name": "python",
   "nbconvert_exporter": "python",
   "pygments_lexer": "ipython3",
   "version": "3.7.13"
  }
 },
 "nbformat": 4,
 "nbformat_minor": 5
}
