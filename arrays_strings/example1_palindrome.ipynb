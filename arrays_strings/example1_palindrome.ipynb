{
 "cells": [
  {
   "cell_type": "code",
   "execution_count": 1,
   "id": "3ff2df2d",
   "metadata": {},
   "outputs": [],
   "source": [
    "# Using two pointers technique"
   ]
  },
  {
   "cell_type": "code",
   "execution_count": 9,
   "id": "6b7b8653",
   "metadata": {},
   "outputs": [
    {
     "name": "stdout",
     "output_type": "stream",
     "text": [
      "aba\n"
     ]
    }
   ],
   "source": [
    "a = input()"
   ]
  },
  {
   "cell_type": "code",
   "execution_count": 10,
   "id": "61e8aa40",
   "metadata": {},
   "outputs": [
    {
     "name": "stdout",
     "output_type": "stream",
     "text": [
      "True\n"
     ]
    }
   ],
   "source": [
    "pal = True\n",
    "i_l = 0\n",
    "i_r = len(a) - 1\n",
    "\n",
    "while i_l != i_r:\n",
    "    if a[i_l] != a[i_r]:\n",
    "        pal = False\n",
    "        break\n",
    "    \n",
    "    i_l += 1\n",
    "    i_r -= 1\n",
    "print(pal)"
   ]
  }
 ],
 "metadata": {
  "kernelspec": {
   "display_name": "Python 3 (ipykernel)",
   "language": "python",
   "name": "python3"
  },
  "language_info": {
   "codemirror_mode": {
    "name": "ipython",
    "version": 3
   },
   "file_extension": ".py",
   "mimetype": "text/x-python",
   "name": "python",
   "nbconvert_exporter": "python",
   "pygments_lexer": "ipython3",
   "version": "3.9.12"
  }
 },
 "nbformat": 4,
 "nbformat_minor": 5
}
